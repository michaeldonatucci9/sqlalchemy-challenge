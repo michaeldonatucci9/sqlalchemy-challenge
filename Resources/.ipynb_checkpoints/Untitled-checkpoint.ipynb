{
 "cells": [],
 "metadata": {
  "environment": {
   "name": "common-cpu.m55",
   "type": "gcloud",
   "uri": "gcr.io/deeplearning-platform-release/base-cpu:m55"
  }
 },
 "nbformat": 4,
 "nbformat_minor": 4
}
